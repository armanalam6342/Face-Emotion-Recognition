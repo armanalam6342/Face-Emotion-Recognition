{
  "cells": [
    {
      "cell_type": "markdown",
      "metadata": {
        "id": "view-in-github",
        "colab_type": "text"
      },
      "source": [
        "<a href=\"https://colab.research.google.com/github/armanalam6342/Face-Emotion-Recognition/blob/main/Face_Emotion_Recognition.ipynb\" target=\"_parent\"><img src=\"https://colab.research.google.com/assets/colab-badge.svg\" alt=\"Open In Colab\"/></a>"
      ]
    },
    {
      "cell_type": "code",
      "execution_count": null,
      "metadata": {
        "id": "pGGBMvJA5TBs"
      },
      "outputs": [],
      "source": [
        "import os\n",
        "import cv2\n",
        "import matplotlib.pyplot as plt\n",
        "import numpy as np"
      ]
    },
    {
      "cell_type": "code",
      "execution_count": null,
      "metadata": {
        "id": "T-EVQteY6C0f"
      },
      "outputs": [],
      "source": [
        "path = \"/content/drive/MyDrive/ALMABETTER PROJECT/Face emotion Detector/images\""
      ]
    },
    {
      "cell_type": "code",
      "execution_count": null,
      "metadata": {
        "id": "D-wJoXK25mJ3"
      },
      "outputs": [],
      "source": [
        "categories = os.listdir(path)\n",
        "categories"
      ]
    },
    {
      "cell_type": "code",
      "execution_count": null,
      "metadata": {
        "id": "Uans8_zE6Rql"
      },
      "outputs": [],
      "source": [
        "data = []\n",
        "for category in categories:\n",
        "  full_path = os.path.join(path,category)\n",
        "\n",
        "  label = categories.index(category)\n",
        "  for file in os.listdir(full_path):\n",
        "    img_path = os.path.join(full_path,file)\n",
        "    image = cv2.imread(img_path)\n",
        "    image = cv2.resize(image,(224,224))\n",
        "    data.append([image,label])"
      ]
    },
    {
      "cell_type": "code",
      "execution_count": null,
      "metadata": {
        "id": "4ukCEDYsPybZ"
      },
      "outputs": [],
      "source": [
        "len(data)"
      ]
    },
    {
      "cell_type": "markdown",
      "source": [
        "#showing some images of eack category"
      ],
      "metadata": {
        "id": "wkWxNHeObhsx"
      }
    },
    {
      "cell_type": "code",
      "source": [
        "n = 1\n",
        "plt.figure(figsize=(20,15))\n",
        "for i in range(10):\n",
        "  plt.subplot(1,10,n)\n",
        "  n = n+1\n",
        "  plt.imshow(data[i][0])\n",
        "  plt.title(f\"{data[i][1]} neutral\")\n",
        "  plt.tight_layout()\n",
        "plt.show()"
      ],
      "metadata": {
        "id": "upDZMxgxb0Uo"
      },
      "execution_count": null,
      "outputs": []
    },
    {
      "cell_type": "code",
      "source": [
        "n = 1\n",
        "plt.figure(figsize=(20,15))\n",
        "for i in range(6210,6220):\n",
        "  plt.subplot(1,10,n)\n",
        "  n = n+1\n",
        "  plt.imshow(data[i][0])\n",
        "  plt.title(f\"{data[i][1]} angry\")\n",
        "  plt.tight_layout()\n",
        "plt.show()"
      ],
      "metadata": {
        "id": "OIPGHOz8d0a6"
      },
      "execution_count": null,
      "outputs": []
    },
    {
      "cell_type": "code",
      "source": [
        "n = 1\n",
        "plt.figure(figsize=(20,15))\n",
        "for i in range(12000,12010):\n",
        "  plt.subplot(1,10,n)\n",
        "  n = n+1\n",
        "  plt.imshow(data[i][0])\n",
        "  plt.title(f\"{data[i][1]} SAD\")\n",
        "  plt.tight_layout()\n",
        "plt.show()"
      ],
      "metadata": {
        "id": "QFTLlDBvWiDp"
      },
      "execution_count": null,
      "outputs": []
    },
    {
      "cell_type": "code",
      "source": [
        "n = 1\n",
        "plt.figure(figsize=(20,15))\n",
        "for i in range(18000,18010):\n",
        "  plt.subplot(1,10,n)\n",
        "  n = n+1\n",
        "  plt.imshow(data[i][0])\n",
        "  plt.title(f\"{data[i][1]} SURPRISE\")\n",
        "  plt.tight_layout()\n",
        "plt.show()"
      ],
      "metadata": {
        "id": "VybxuxK8e10Q"
      },
      "execution_count": null,
      "outputs": []
    },
    {
      "cell_type": "code",
      "source": [
        "n = 1\n",
        "plt.figure(figsize=(20,15))\n",
        "for i in range(24000,24010):\n",
        "  plt.subplot(1,10,n)\n",
        "  n = n+1\n",
        "  plt.imshow(data[i][0])\n",
        "  plt.title(f\"{data[i][1]} HAPPY\")\n",
        "  plt.tight_layout()\n",
        "plt.show()"
      ],
      "metadata": {
        "id": "8skrlEP1VCeP"
      },
      "execution_count": null,
      "outputs": []
    },
    {
      "cell_type": "code",
      "execution_count": null,
      "metadata": {
        "id": "yEODmV6-QO3v"
      },
      "outputs": [],
      "source": [
        "n = 1\n",
        "plt.figure(figsize=(20,15))\n",
        "for i in range(30500,30510):\n",
        "  plt.subplot(1,10,n)\n",
        "  n = n+1\n",
        "  plt.imshow(data[i][0])\n",
        "  plt.title(f\"{data[i][1]} DISGUST\")\n",
        "  plt.tight_layout()\n",
        "plt.show()"
      ]
    },
    {
      "cell_type": "code",
      "execution_count": null,
      "metadata": {
        "id": "fyb62x8nEKZj"
      },
      "outputs": [],
      "source": [
        "n = 1\n",
        "plt.figure(figsize=(20,15))\n",
        "for i in range(33000,33010):\n",
        "  plt.subplot(1,10,n)\n",
        "  n = n+1\n",
        "  plt.imshow(data[i][0])\n",
        "  plt.title(f\"{data[i][1]} FEAR\")\n",
        "  plt.tight_layout()\n",
        "plt.show()"
      ]
    },
    {
      "cell_type": "code",
      "source": [
        "X = []\n",
        "y = []\n",
        "for feature,label in data:\n",
        "  X.append(feature)\n",
        "  y.append(label)"
      ],
      "metadata": {
        "id": "NTzCu2M4f0LC"
      },
      "execution_count": null,
      "outputs": []
    },
    {
      "cell_type": "code",
      "source": [
        "X = np.array(X)\n",
        "y = np.array(y)"
      ],
      "metadata": {
        "id": "8tvqrLipglwC"
      },
      "execution_count": null,
      "outputs": []
    },
    {
      "cell_type": "code",
      "source": [
        "X.shape"
      ],
      "metadata": {
        "id": "9pbZIn1NgnIE"
      },
      "execution_count": null,
      "outputs": []
    },
    {
      "cell_type": "code",
      "source": [
        "X[0]"
      ],
      "metadata": {
        "id": "HNNChVjpl3ZM"
      },
      "execution_count": null,
      "outputs": []
    },
    {
      "cell_type": "code",
      "source": [
        ""
      ],
      "metadata": {
        "id": "dulaW9zustqf"
      },
      "execution_count": null,
      "outputs": []
    }
  ],
  "metadata": {
    "colab": {
      "collapsed_sections": [],
      "name": "Face Emotion Recognition.ipynb",
      "private_outputs": true,
      "provenance": [],
      "mount_file_id": "10UipK8r_miJaX0DEpIr01zyIqpQYdQ0J",
      "authorship_tag": "ABX9TyMCpGHgmQu82bb9j/8OsyzR",
      "include_colab_link": true
    },
    "kernelspec": {
      "display_name": "Python 3",
      "name": "python3"
    },
    "language_info": {
      "name": "python"
    },
    "accelerator": "GPU"
  },
  "nbformat": 4,
  "nbformat_minor": 0
}